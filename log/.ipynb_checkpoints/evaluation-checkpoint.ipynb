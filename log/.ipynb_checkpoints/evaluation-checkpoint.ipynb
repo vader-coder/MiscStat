{
 "cells": [
  {
   "cell_type": "markdown",
   "metadata": {},
   "source": [
    "# Lab 2B - Validation & Experimentation\n",
    "\n",
    "There are two parts to this week's lab.  The checkpoint for week 1 only involves Lab 2A, so return back to this file only after you have completed the checkpoint.\n",
    "\n",
    "## Learning Goals:\n",
    "\n",
    "The goal of this lab is to practice using good experimental design and methodology to train and test classifiers.  You will write some simple code to try doing this yourself, and you will also use the tools built into scikit-learn, numpy, and scipy-stats.\n",
    "\n",
    "As with any programming assignment, you'll also be practicing and improving your general CS skills, like problem decomposition, algorithmic thinking, implementation and testing, language syntax, etc.. Here are some of the specific things you should learn while completing this assignment:\n",
    "\n",
    "   * How to load and use python libraries to train and evaluate ML models in a more rigorous fashion (i.e. going beyond a single train/test split)\n",
    "   * The impact of a random seed value, and how to mitigate this impact\n",
    "   * How to measure performance in different ways (beyond just accuracy)\n",
    "\n",
    "   * How to use your understanding of a data set to figure out what performance measures are appropriate\n",
    "\n",
    "   * How to work independently to make choices about testing and applying machine learning methods\n",
    "\n",
    "\n",
    "Like the previous one, the assignment is presented in the form of an interactive Python notebook; it contains a mix of pre-made examples to help you understand how to do things, scaffolding with missing parts where you'll write your own code, and written short-answer questions. Your job is to fill in answers to the written questions (which may require you to modify scaffolding code and re-run it, or may require you to write your own code and run it), as well as write the indicated functions to complete the programming portion of the assignment. Look for the TODO: ... markers to help you spot places you'll need to complete things.\n",
    "\n",
    "Note that this notebook leaves more for you to fill in independently than the previous one, particularly in Part 5.  This is intentional; ultimately, you'll need to be able to work through this process with little or no guidance (e.g. for the final project).  This is your first chance to start practicing these skills, so ask questions if you're uncertain.\n",
    "\n",
    "This lab is intended to be done with a partner (i.e. teams of two); partners will be assigned based on your response to the partner preference survey.\n",
    "\n",
    "You'll have approximately two weeks to complete this full lab (both parts), so be sure to start early and plan properly to get it all done in a timely fashion. "
   ]
  },
  {
   "cell_type": "code",
   "execution_count": 1,
   "metadata": {},
   "outputs": [],
   "source": [
    "# CPSC 66 - Machine Learning\n",
    "# Lab 2B\n",
    "# Scaffolding by Prof. Ben Mitchell & Ameet Soni\n",
    "# Assignment completed by: Nathaniel, Patrick, Ethan\n",
    "# Resources used: \n",
    "#   <List any resources you used beyond the ones posted on Blackboard>\n",
    "#   <This can include books, websites, other students, etc.>"
   ]
  },
  {
   "cell_type": "code",
   "execution_count": 2,
   "metadata": {},
   "outputs": [],
   "source": [
    "# import math and numpy first\n",
    "import math\n",
    "import numpy as np\n",
    "# import scipy for stats package\n",
    "import scipy\n",
    "# import some data and classifiers to play with\n",
    "from sklearn import datasets\n",
    "from sklearn import neighbors\n",
    "from sklearn import svm\n",
    "from sklearn import tree\n",
    "from sklearn.linear_model import SGDClassifier\n",
    "# import some validation tools\n",
    "from sklearn.model_selection import train_test_split\n",
    "from sklearn.model_selection import cross_val_score\n",
    "from sklearn.model_selection import RepeatedKFold\n",
    "from sklearn.metrics import confusion_matrix"
   ]
  },
  {
   "cell_type": "markdown",
   "metadata": {},
   "source": [
    "# Part 1: Multiple classifiers using SciKit Learn\n",
    "\n",
    "### Load some data\n",
    "\n",
    "SciKit Learn comes with a number of \"built-in\" datasets beyond the Iris dataset we've been using (see https://scikit-learn.org/stable/datasets/index.html for a full list).  For this assignment, we will load several datasets, and compare the performance of several classifiers on each of them.\n",
    "\n",
    "First we'll load the iris dataset again, since it's small and easy to play with.\n",
    "\n",
    "Go ahead and load it the same way we did in the previous lab, and split it into 60% train and 40% test just like we did there (refer to the Lab 1 scaffolding as a reference).\n",
    "\n",
    "**Be sure to use the argument `random_state=0` just like we did in the previous assignment.**  This is a \"seed\" for the random number generator; any particular seed value should always result in the same set of \"random\" numbers.  We'll use fixed seed values here because it will allow everyone to get the same results."
   ]
  },
  {
   "cell_type": "code",
   "execution_count": 3,
   "metadata": {},
   "outputs": [],
   "source": [
    "# TODO: load the iris dataset and split it into train and test sets\n",
    "iris = datasets.load_iris()\n",
    "\n",
    "X_train, X_test, y_train, y_test = train_test_split(iris.data, iris.target, test_size=0.4, random_state=0)\n",
    "\n"
   ]
  },
  {
   "cell_type": "markdown",
   "metadata": {},
   "source": [
    "## Create a Nearest Neighbor classifier\n",
    "Create a nearest neighbor classifier using SKLearn just like we did in the previous lab; here, we will use it as a baseline for comparing our new classifiers.  Be sure to train it and then evaluate its performance on the testing data (again, you should be able to use code from the previous assignment with little or no modification to do this).  Use an n_neighbors value of 1.  This should give you the same accuracy as you got in the previous assignment.\n",
    "\n",
    "Once you've got it working, try changing the `random_state` value in the [`train_test_split`](https://scikit-learn.org/stable/modules/generated/sklearn.model_selection.train_test_split.html) function to 1 and re-running your nearest-neighbor classifier.  Try it again with a value of 2.  Write down each of the accuracies below; the first one has been done for you."
   ]
  },
  {
   "cell_type": "code",
   "execution_count": 4,
   "metadata": {},
   "outputs": [
    {
     "name": "stdout",
     "output_type": "stream",
     "text": [
      "0: 0.9166666666666666\n",
      "1: 0.9666666666666667\n",
      "2: 0.9666666666666667\n",
      "3: 0.9666666666666667\n",
      "4: 0.95\n",
      "5: 0.9666666666666667\n",
      "6: 0.95\n",
      "7: 0.95\n",
      "8: 0.95\n",
      "9: 0.9666666666666667\n"
     ]
    }
   ],
   "source": [
    "# create, train, and test a nearest neighbor classifier\n",
    "\n",
    "classifier = neighbors.KNeighborsClassifier(metric='euclidean', n_neighbors=1)\n",
    "classifier.fit(X_train, y_train)\n",
    "classifier.score(X_test, y_test)\n",
    "\n",
    "def KNN(state):\n",
    "    X_train, X_test, y_train, y_test = train_test_split(iris.data, iris.target, test_size=0.4, random_state=state)\n",
    "\n",
    "    classifier = neighbors.KNeighborsClassifier(metric='euclidean', n_neighbors=1)\n",
    "    classifier.fit(X_train, y_train)\n",
    "    return classifier.score(X_test, y_test)\n",
    "    \n",
    "\n",
    "for i in range(10):\n",
    "    print(f\"{i}: {KNN(i)}\")"
   ]
  },
  {
   "cell_type": "markdown",
   "metadata": {},
   "source": [
    "**Question 1: accuracy of nearest neighbor for different random seed values**\n",
    "\n",
    "seed=0, accuracy = 0.9166666666666666\n",
    "\n",
    "seed=1, accuracy = 0.9666666666666667\n",
    "\n",
    "seed=2, accuracy = 0.9666666666666667"
   ]
  },
  {
   "cell_type": "markdown",
   "metadata": {},
   "source": [
    "## Create a Decision Tree\n",
    "\n",
    "Create a decision tree, using [`tree.DecisionTreeClassifier()`](https://scikit-learn.org/stable/modules/generated/sklearn.tree.DecisionTreeClassifier.html) as your classifier.  Train and test as before."
   ]
  },
  {
   "cell_type": "code",
   "execution_count": 5,
   "metadata": {},
   "outputs": [
    {
     "name": "stdout",
     "output_type": "stream",
     "text": [
      "0: 0.95\n",
      "1: 0.9666666666666667\n",
      "2: 0.9333333333333333\n",
      "3: 0.95\n",
      "4: 0.9666666666666667\n",
      "5: 0.9666666666666667\n",
      "6: 0.95\n",
      "7: 0.9333333333333333\n",
      "8: 0.9333333333333333\n",
      "9: 0.9666666666666667\n"
     ]
    }
   ],
   "source": [
    "# create, train, and test\n",
    "\n",
    "def decisionTree(state):\n",
    "    X_train, X_test, y_train, y_test = train_test_split(iris.data, iris.target, test_size=0.4, random_state=state)\n",
    "    treeClassifier = tree.DecisionTreeClassifier()\n",
    "    treeClassifier = treeClassifier.fit(X_train, y_train)\n",
    "    return treeClassifier.score(X_test, y_test)\n",
    "\n",
    "for i in range(10):\n",
    "    print(f\"{i}: {decisionTree(i)}\")"
   ]
  },
  {
   "cell_type": "markdown",
   "metadata": {},
   "source": [
    "**Question 2: accuracy of decision tree for different random seed values**\n",
    "\n",
    "seed=0, accuracy = 0.95\n",
    "\n",
    "seed=1, accuracy = 0.9666666666666667\n",
    "\n",
    "seed=2, accuracy = 0.9333333333333333"
   ]
  },
  {
   "cell_type": "markdown",
   "metadata": {},
   "source": [
    "## Create a linear SVM\n",
    "Code to create a linear [SVM](https://scikit-learn.org/stable/modules/generated/sklearn.svm.SVC.html) is given; however, it is left to you to add lines to train the SVM on the training data and then evaluate its accuracy on the testing data.  This should work just like the training/testing process did using the nearest neighbor class, since SKLearn tries to provide the same API for all its classifiers (though many of them have algorithm specific options available).\n",
    "\n",
    "Test your classifier on different train/test splits using the same three random-seed values as previously, and report the accuracies you get."
   ]
  },
  {
   "cell_type": "code",
   "execution_count": 6,
   "metadata": {},
   "outputs": [
    {
     "name": "stdout",
     "output_type": "stream",
     "text": [
      "0: 0.9666666666666667\n",
      "1: 0.9833333333333333\n",
      "2: 0.9666666666666667\n",
      "3: 0.9666666666666667\n",
      "4: 0.9833333333333333\n",
      "5: 0.9833333333333333\n",
      "6: 0.9833333333333333\n",
      "7: 0.95\n",
      "8: 0.9333333333333333\n",
      "9: 1.0\n"
     ]
    }
   ],
   "source": [
    "\n",
    "\n",
    "def linSVM(state):\n",
    "    X_train, X_test, y_train, y_test = train_test_split(iris.data, iris.target, test_size=0.4, random_state=state)\n",
    "    linearSvm = svm.SVC(kernel='linear')\n",
    "    linearSvm = linearSvm.fit(X_train, y_train)\n",
    "    return linearSvm.score(X_test, y_test)\n",
    "\n",
    "for i in range(10):\n",
    "    print(f\"{i}: {linSVM(i)}\")\n",
    "# train and test"
   ]
  },
  {
   "cell_type": "markdown",
   "metadata": {},
   "source": [
    "**Question 3: accuracy of linear SVM for different random seed values**\n",
    "\n",
    "seed=0, accuracy =0.966667\n",
    "\n",
    "seed=1, accuracy =0.9833333\n",
    "\n",
    "seed=2, accuracy = 0.966666666667"
   ]
  },
  {
   "cell_type": "markdown",
   "metadata": {},
   "source": [
    "## Create a polynomial-kernel SVM\n",
    "Create another SVM, only this time use the argument `kernel='poly'` to make an SVM using a polynomial kernel.  Train and test it with different seed values as before."
   ]
  },
  {
   "cell_type": "code",
   "execution_count": 7,
   "metadata": {},
   "outputs": [
    {
     "name": "stdout",
     "output_type": "stream",
     "text": [
      "0: 0.9\n",
      "1: 0.9833333333333333\n",
      "2: 0.9666666666666667\n",
      "3: 0.95\n",
      "4: 0.9833333333333333\n",
      "5: 0.9833333333333333\n",
      "6: 0.9833333333333333\n",
      "7: 0.95\n",
      "8: 0.95\n",
      "9: 0.9666666666666667\n"
     ]
    }
   ],
   "source": [
    "# create, train, and test\n",
    "def polSVM(state):\n",
    "    X_train, X_test, y_train, y_test = train_test_split(iris.data, iris.target, test_size=0.4, random_state=state)\n",
    "    polySvm = svm.SVC(kernel='poly')\n",
    "    polySvm = polySvm.fit(X_train, y_train)\n",
    "    return polySvm.score(X_test, y_test)\n",
    "\n",
    "for i in range(10):\n",
    "    print(f\"{i}: {polSVM(i)}\")"
   ]
  },
  {
   "cell_type": "markdown",
   "metadata": {},
   "source": [
    "**Question 4: accuracy of polynomial SVM for different random seed values**\n",
    "\n",
    "seed=0, accuracy = 0.9\n",
    "\n",
    "seed=1, accuracy = 0.9833333\n",
    "\n",
    "seed=2, accuracy = 0.9666667"
   ]
  },
  {
   "cell_type": "markdown",
   "metadata": {},
   "source": [
    "## Create a rbf-kernel SVM\n",
    "\n",
    "Create another svm, this time using `'rbf'` for the kernel type.  Train and test as before."
   ]
  },
  {
   "cell_type": "code",
   "execution_count": 8,
   "metadata": {},
   "outputs": [
    {
     "name": "stdout",
     "output_type": "stream",
     "text": [
      "0: 0.9333333333333333\n",
      "1: 0.9833333333333333\n",
      "2: 0.9333333333333333\n",
      "3: 0.95\n",
      "4: 0.9833333333333333\n",
      "5: 0.9833333333333333\n",
      "6: 0.9333333333333333\n",
      "7: 0.9333333333333333\n",
      "8: 0.95\n",
      "9: 1.0\n"
     ]
    }
   ],
   "source": [
    "# create, train, and test\n",
    "def rbfSVM(state):\n",
    "    X_train, X_test, y_train, y_test = train_test_split(iris.data, iris.target, test_size=0.4, random_state=state)\n",
    "    rbfSvm = svm.SVC(kernel='rbf')\n",
    "    rbfSvm = rbfSvm.fit(X_train, y_train)\n",
    "    return rbfSvm.score(X_test, y_test)\n",
    "\n",
    "for i in range(10):\n",
    "    print(f\"{i}: {rbfSVM(i)}\")\n"
   ]
  },
  {
   "cell_type": "markdown",
   "metadata": {},
   "source": [
    "**Question 5: accuracy of rbf SVM for different random seed values**\n",
    "\n",
    "seed=0, accuracy = 0.9333333333333333\n",
    "\n",
    "seed=1, accuracy = 0.9833333333333333\n",
    "\n",
    "seed=2, accuracy = 0.9333333333333333"
   ]
  },
  {
   "cell_type": "markdown",
   "metadata": {},
   "source": [
    "## Create a Logistic Regression classifier\n",
    "Create a logistic regression classifier using the SGDClassifier (see lab 2A for details)"
   ]
  },
  {
   "cell_type": "code",
   "execution_count": 9,
   "metadata": {},
   "outputs": [
    {
     "name": "stdout",
     "output_type": "stream",
     "text": [
      "0: 0.85\n",
      "1: 0.9333333333333333\n",
      "2: 0.8333333333333334\n",
      "3: 0.7166666666666667\n",
      "4: 0.8\n",
      "5: 0.8833333333333333\n",
      "6: 0.95\n",
      "7: 0.9\n",
      "8: 0.8666666666666667\n",
      "9: 0.95\n"
     ]
    }
   ],
   "source": [
    "# create, train, and test\n",
    "def logistic(state):\n",
    "    X_train, X_test, y_train, y_test = train_test_split(iris.data, iris.target, test_size=0.4, random_state=state)\n",
    "    sgd = SGDClassifier(loss='log', max_iter=100,shuffle=False, tol=None, penalty='none', learning_rate='constant', eta0 = 0.1)\n",
    "    sgd.fit(X_train,y_train) #\n",
    "    return sgd.score(X_test, y_test)\n",
    "\n",
    "for i in range(10):\n",
    "    print(f\"{i}: {logistic(i)}\")"
   ]
  },
  {
   "cell_type": "markdown",
   "metadata": {},
   "source": [
    "**Question 6: accuracy of Logistir Regression for different random seed values**\n",
    "\n",
    "seed=0, accuracy = 0.85\n",
    "\n",
    "seed=1, accuracy = 0.9333333333333333\n",
    "\n",
    "seed=2, accuracy = 0.8333333333333334"
   ]
  },
  {
   "cell_type": "markdown",
   "metadata": {},
   "source": [
    "# Part 2: Repeated hold-out validation and Computing Statistics\n",
    "We've done 'hold-out' validation using the `train_test_split` method, but we've used a fixed seed value.  In the previous part, we manually changed the seed for the random-number generator to get different train/test splits so we could see how the performance of our classifiers changed.  This time, let's write a loop to do the same thing for us.  Copy your code from the previous section to split the data 60/40 and then train and test a SVM classifier with an RBF kernel, and put it inside a `for`-loop that runs 10 times.  Each time, seed the `train_test_split` function with the current loop iteration counter (i.e. the first time through, `train_test_split` should be 0, the second time through it should be 1, etc.).  The result should be 10 accuracy scores, which should be stable (i.e. if you re-run the cell, you get the same 10 numbers)"
   ]
  },
  {
   "cell_type": "code",
   "execution_count": 10,
   "metadata": {},
   "outputs": [
    {
     "name": "stdout",
     "output_type": "stream",
     "text": [
      "0: 0.9333333333333333\n",
      "1: 0.9833333333333333\n",
      "2: 0.9333333333333333\n",
      "3: 0.95\n",
      "4: 0.9833333333333333\n",
      "5: 0.9833333333333333\n",
      "6: 0.9333333333333333\n",
      "7: 0.9333333333333333\n",
      "8: 0.95\n",
      "9: 1.0\n"
     ]
    }
   ],
   "source": [
    "# todo\n",
    "def rbf2SVM(state):\n",
    "    X_train, X_test, y_train, y_test = train_test_split(iris.data, iris.target, test_size=0.4, random_state=state)\n",
    "    rbfSvm = svm.SVC(kernel='rbf')\n",
    "    rbfSvm = rbfSvm.fit(X_train, y_train)\n",
    "    return rbfSvm.score(X_test, y_test)\n",
    "\n",
    "for i in range(10):\n",
    "    print(f\"{i}: {rbf2SVM(i)}\")\n"
   ]
  },
  {
   "cell_type": "markdown",
   "metadata": {},
   "source": [
    "## Random seed\n",
    "\n",
    "Now try making a copy of the loop, but leave off the `random_state` argument entirely.  This version of the loop should give you output that is generally similar to the previous one, but each time you re-run it, you should get different scores.  This is because the 'default' for the `train_test_split` function is to not use a static seed value, so every time you run it you'll get a different result.  Read more [here](https://scikit-learn.org/stable/glossary.html#term-random_state)"
   ]
  },
  {
   "cell_type": "code",
   "execution_count": 11,
   "metadata": {},
   "outputs": [
    {
     "name": "stdout",
     "output_type": "stream",
     "text": [
      "0: 0.9666666666666667\n",
      "1: 0.9666666666666667\n",
      "2: 0.9666666666666667\n",
      "3: 0.95\n",
      "4: 0.9333333333333333\n",
      "5: 0.9666666666666667\n",
      "6: 0.95\n",
      "7: 0.9333333333333333\n",
      "8: 0.95\n",
      "9: 0.9666666666666667\n",
      "\n",
      "\n",
      "0: 0.8833333333333333\n",
      "1: 0.95\n",
      "2: 0.9333333333333333\n",
      "3: 0.9833333333333333\n",
      "4: 0.9666666666666667\n",
      "5: 0.9166666666666666\n",
      "6: 0.9666666666666667\n",
      "7: 0.9166666666666666\n",
      "8: 0.9666666666666667\n",
      "9: 0.95\n"
     ]
    }
   ],
   "source": [
    "def rbf3SVM():\n",
    "    X_train, X_test, y_train, y_test = train_test_split(iris.data, iris.target, test_size=0.4)\n",
    "    rbfSvm = svm.SVC(kernel='rbf')\n",
    "    rbfSvm = rbfSvm.fit(X_train, y_train)\n",
    "    return rbfSvm.score(X_test, y_test)\n",
    "\n",
    "for i in range(10):\n",
    "    print(f\"{i}: {rbf3SVM()}\")\n",
    "\n",
    "print('\\n')\n",
    "    \n",
    "for i in range(10):\n",
    "    print(f\"{i}: {rbf3SVM()}\")"
   ]
  },
  {
   "cell_type": "markdown",
   "metadata": {},
   "source": [
    "## Computing Statistics\n",
    "\n",
    "Make copy of the previous cell (i.e. the loop without fixed seeds), but this time instead of printing the individual scores, store them in a list.  The easiest way to do this is to start with an empty list (e.g. `myList = []`), and then add numbers using the `.append()` method.  After the loop is done, print out your list to be sure it looks the way you expect (you should be able to do this with a single print, e.g. `print(myList)`)"
   ]
  },
  {
   "cell_type": "code",
   "execution_count": 12,
   "metadata": {},
   "outputs": [
    {
     "name": "stdout",
     "output_type": "stream",
     "text": [
      "[0.9666666666666667, 0.95, 0.9333333333333333, 0.9333333333333333, 0.95, 1.0, 1.0, 0.95, 0.9666666666666667, 0.95]\n"
     ]
    }
   ],
   "source": [
    "def rbf4SVM():\n",
    "    X_train, X_test, y_train, y_test = train_test_split(iris.data, iris.target, test_size=0.4)\n",
    "    rbfSvm = svm.SVC(kernel='rbf')\n",
    "    rbfSvm = rbfSvm.fit(X_train, y_train)\n",
    "    return rbfSvm.score(X_test, y_test)\n",
    "\n",
    "myList= []\n",
    "for i in range(10):\n",
    "    myList.append(rbf4SVM())\n",
    "\n",
    "print(myList)"
   ]
  },
  {
   "cell_type": "markdown",
   "metadata": {},
   "source": [
    "### Mean\n",
    "Compute the mean (average) of the list of numbers you made in the previous step; this is the average accuracy over your 10 trials"
   ]
  },
  {
   "cell_type": "code",
   "execution_count": 13,
   "metadata": {},
   "outputs": [],
   "source": [
    "mu = np.mean(myList)"
   ]
  },
  {
   "cell_type": "markdown",
   "metadata": {},
   "source": [
    "### Variance & Standard Deviation\n",
    "Now compute the variance and standard deviation of your list of accuracies.  The standard deviation is the square root of the variance, and the variance is basically just the average squared differences from the mean.  \n",
    "\n",
    "This will be a bit like the loop you wrote to calculate Euclidean distance, only now you're subtracting the mean rather than a coordinate of another point, and you're going to be dividing by the number of items in the list minus one before you take the square root.  \n",
    "\n",
    "\n",
    "Note that the symbol for standard deviation is $\\sigma$; there's no standard symbol for variance, it's just $\\sigma^2$.  Here's the equations, where $n$ is the number of items in the list, $x_i$ is the $i$-th element of the list, and $\\mu$ is the mean:\n",
    "\n",
    "$$ \\sigma^2 = \\frac{1}{n-1} \\sum_{i=1}^n (x_i - \\mu)^2 $$\n",
    "\n",
    "$$ \\sigma = \\sqrt{\\sigma^2} $$"
   ]
  },
  {
   "cell_type": "code",
   "execution_count": 14,
   "metadata": {},
   "outputs": [
    {
     "name": "stdout",
     "output_type": "stream",
     "text": [
      "our var: 0.0005679012345679016    our std: 0.023830678432808027\n"
     ]
    },
    {
     "data": {
      "text/plain": [
       "DescribeResult(nobs=10, minmax=(0.9333333333333333, 1.0), mean=0.96, variance=0.0005679012345679014, skewness=0.7500308204401336, kurtosis=-0.6361058601134184)"
      ]
     },
     "execution_count": 14,
     "metadata": {},
     "output_type": "execute_result"
    }
   ],
   "source": [
    "def variance(l):\n",
    "    mu = np.mean(l)\n",
    "    s = 0\n",
    "    for i in range(len(l)):\n",
    "        s += (l[i]-mu)**2\n",
    "    return s/(len(l)-1)\n",
    "        \n",
    "def standardDev(l):\n",
    "    return np.sqrt(variance(l))\n",
    "\n",
    "print(f\"our var: {variance(myList)}    our std: {standardDev(myList)}\")\n",
    "scipy.stats.describe(myList)"
   ]
  },
  {
   "cell_type": "markdown",
   "metadata": {},
   "source": [
    "### Stats using scipy\n",
    "To check and see if you've calculated your statistics correctly, you can use the `scipy.stats` library.  In particular, if you call the method `scipy.stats.describe()` and give it a list of numbers as an argument, it will report a variety of statistics, including mean and variance.  Make sure that these values match the ones you've calculated above.  See https://docs.scipy.org/doc/scipy/reference/generated/scipy.stats.describe.html#scipy.stats.describe for documentation.\n",
    "\n",
    "In the future, it's fine to use the stats library to do this kind of thing for you, but it's a lot easier to understand the numbers coming out of the stats library once you've written code to calculate those numbers yourself.  You can also use this as a reference implementation, to check that your own code produces the same values."
   ]
  },
  {
   "cell_type": "code",
   "execution_count": 15,
   "metadata": {},
   "outputs": [
    {
     "data": {
      "text/plain": [
       "DescribeResult(nobs=10, minmax=(0.9333333333333333, 1.0), mean=0.96, variance=0.0005679012345679014, skewness=0.7500308204401336, kurtosis=-0.6361058601134184)"
      ]
     },
     "execution_count": 15,
     "metadata": {},
     "output_type": "execute_result"
    }
   ],
   "source": [
    "scipy.stats.describe(myList)"
   ]
  },
  {
   "cell_type": "markdown",
   "metadata": {},
   "source": [
    "# Part 3: K-Fold Cross-validation\n",
    "\n",
    "Now we'll use scikit-learn to do some more complicated types of validation.  Repeatedly re-spliting the data is okay, but it's not ideal from a statistical reliability standpoint (as we discussed in class).  Therefore, a better practice is to use k-fold cross-validation, as shown in this example.  Note the parameter `cv=5`; this is how many 'folds' to use, and will also be how many scores you get out."
   ]
  },
  {
   "cell_type": "code",
   "execution_count": 16,
   "metadata": {},
   "outputs": [
    {
     "data": {
      "text/plain": [
       "array([0.96666667, 0.96666667, 0.96666667, 0.93333333, 1.        ])"
      ]
     },
     "execution_count": 16,
     "metadata": {},
     "output_type": "execute_result"
    }
   ],
   "source": [
    "clf = svm.SVC(kernel='rbf')\n",
    "scores = cross_val_score(clf, iris.data, iris.target, cv=5)\n",
    "scores"
   ]
  },
  {
   "cell_type": "markdown",
   "metadata": {},
   "source": [
    "### Statistics on the accuracies\n",
    "\n",
    "Since `cross_val_score` returns a numpy array, we can use numpy methods to get the mean and standard deviation:"
   ]
  },
  {
   "cell_type": "code",
   "execution_count": 17,
   "metadata": {},
   "outputs": [
    {
     "name": "stdout",
     "output_type": "stream",
     "text": [
      "mean accuracy: 0.9666666666666666 , stdDev: 0.02108185106778919\n"
     ]
    }
   ],
   "source": [
    "print('mean accuracy:', scores.mean(), ', stdDev:', scores.std())"
   ]
  },
  {
   "cell_type": "markdown",
   "metadata": {},
   "source": [
    "## Repeated K-fold (aka N-by-K fold)\n",
    "If you try running the cross-validation cell multiple times, you'll notice you get the same values back every time.  That's because `cross_val_score` doesn't shuffle the data randomly every time you call it.  If we actually want to re-run cross-validation with a new set of point-to-fold assignmenst, we can use the function `RepeatedKFold`, to get a set of folds, and then hand it to `cros_val_score` like this:"
   ]
  },
  {
   "cell_type": "code",
   "execution_count": 18,
   "metadata": {},
   "outputs": [
    {
     "data": {
      "text/plain": [
       "array([0.96666667, 0.96666667, 0.96666667, 0.96666667, 0.96666667,\n",
       "       0.86666667, 0.96666667, 0.96666667, 0.96666667, 0.96666667,\n",
       "       0.96666667, 0.93333333, 0.96666667, 0.96666667, 1.        ])"
      ]
     },
     "execution_count": 18,
     "metadata": {},
     "output_type": "execute_result"
    }
   ],
   "source": [
    "rkf = RepeatedKFold(n_splits = 5, n_repeats = 3)\n",
    "scores2 = cross_val_score(clf, iris.data, iris.target, cv = rkf)\n",
    "scores2"
   ]
  },
  {
   "cell_type": "code",
   "execution_count": 19,
   "metadata": {},
   "outputs": [
    {
     "data": {
      "text/plain": [
       "array([1.        , 0.9       , 0.93333333, 1.        , 1.        ,\n",
       "       0.93333333, 1.        , 1.        , 1.        , 0.9       ,\n",
       "       0.96666667, 0.9       , 0.96666667, 1.        , 0.96666667])"
      ]
     },
     "execution_count": 19,
     "metadata": {},
     "output_type": "execute_result"
    }
   ],
   "source": [
    "rkf = RepeatedKFold(n_splits = 5, n_repeats = 3)\n",
    "scores2 = cross_val_score(clf, iris.data, iris.target, cv = rkf)\n",
    "scores2"
   ]
  },
  {
   "cell_type": "code",
   "execution_count": 20,
   "metadata": {},
   "outputs": [
    {
     "name": "stdout",
     "output_type": "stream",
     "text": [
      "mean accuracy: 0.9644444444444444 , stdDev: 0.039377878103709664\n"
     ]
    }
   ],
   "source": [
    "print('mean accuracy:', scores2.mean(), ', stdDev:', scores2.std())"
   ]
  },
  {
   "cell_type": "markdown",
   "metadata": {},
   "source": [
    "# Try using N-by-K to compare some classifiers\n",
    "\n",
    "Last week, we tried to compare some classifiers by hand; this week, lets use cross-validation and statistics.\n",
    "\n",
    "First, we'll run 5-fold cross-validation with 4 repeats to train and test a Nearest Neighbor classifier and a Linear-kernel SVM.  Each should give you an array of 20 accuracy values.  Print the mean and standard deviation for each classifier, then print the difference between the means.  Finally, use `scipy.stats.mannwhitneyu()` to check the $p$ value and see whether the difference is statistically significant (just hand it the two score arrays as inputs)."
   ]
  },
  {
   "cell_type": "code",
   "execution_count": 21,
   "metadata": {},
   "outputs": [
    {
     "name": "stdout",
     "output_type": "stream",
     "text": [
      "Folds:  10  Repeats:  2\n",
      "Nearest Neighbor: mean = 0.9566666666666667 , stdDev = 0.043588989435406726\n",
      "Linear SVM: mean = 0.9833333333333334 , stdDev = 0.02886751345948128\n",
      "Difference between means: 0.026666666666666727\n",
      "MannwhitneyuResult(statistic=135.0, pvalue=0.04274370144542344)\n",
      "\n",
      "\n",
      "Folds:  10  Repeats:  10\n",
      "Nearest Neighbor: mean = 0.9600000000000002 , stdDev = 0.04714045207910316\n",
      "Linear SVM: mean = 0.9800000000000001 , stdDev = 0.033333333333333326\n",
      "Difference between means: 0.019999999999999907\n",
      "MannwhitneyuResult(statistic=3893.0, pvalue=0.0015569006425985915)\n",
      "\n",
      "\n",
      "Folds:  10  Repeats:  100\n",
      "Nearest Neighbor: mean = 0.9587333333333333 , stdDev = 0.04750854893829343\n",
      "Linear SVM: mean = 0.9787333333333333 , stdDev = 0.03585396305384756\n",
      "Difference between means: 0.020000000000000018\n",
      "MannwhitneyuResult(statistic=386629.0, pvalue=1.928020798382081e-24)\n",
      "\n",
      "\n",
      "Folds:  100  Repeats:  10\n",
      "Nearest Neighbor: mean = 0.9605 , stdDev = 0.16938048884095241\n",
      "Linear SVM: mean = 0.9785 , stdDev = 0.1256493135675639\n",
      "Difference between means: 0.018000000000000016\n",
      "MannwhitneyuResult(statistic=486983.0, pvalue=0.0050060663355130505)\n",
      "\n",
      "\n",
      "Folds:  100  Repeats:  100\n",
      "Nearest Neighbor: mean = 0.96065 , stdDev = 0.16681300159160256\n",
      "Linear SVM: mean = 0.9806 , stdDev = 0.11778641687393328\n",
      "Difference between means: 0.019950000000000023\n",
      "MannwhitneyuResult(statistic=48518172.5, pvalue=2.9802741436250315e-24)\n",
      "\n",
      "\n"
     ]
    }
   ],
   "source": [
    "def rkfFunc(folds, repeats):    \n",
    "    rkf = RepeatedKFold(n_splits = folds, n_repeats = repeats)\n",
    "\n",
    "    nn = neighbors.KNeighborsClassifier(n_neighbors=1, metric='euclidean')\n",
    "    svmLinear = svm.SVC(kernel='linear')\n",
    "\n",
    "    nnScores = cross_val_score(nn, iris.data, iris.target, cv = rkf)\n",
    "    svmScores = cross_val_score(svmLinear, iris.data, iris.target, cv = rkf)\n",
    "    print(\"Folds: \", folds, \" Repeats: \", repeats)\n",
    "    print('Nearest Neighbor: mean =', nnScores.mean(), ', stdDev =', nnScores.std())\n",
    "    print('Linear SVM: mean =', svmScores.mean(), ', stdDev =', svmScores.std())\n",
    "    print('Difference between means:', svmScores.mean() - nnScores.mean())\n",
    "    print(scipy.stats.mannwhitneyu(nnScores, svmScores))\n",
    "\n",
    "    print('\\n')\n",
    "    #scipy.stats.mannwhitneyu(nnScores, svmScores)\n",
    "\n",
    "for f, r in [(10, 2), (10, 10), (10, 100), (100, 10), (100, 100)]:\n",
    "        rkfFunc(f, r)"
   ]
  },
  {
   "cell_type": "markdown",
   "metadata": {},
   "source": [
    "## Compare different values of K and N\n",
    "\n",
    "Repeat the above experiment using the values of K and N below, and report the mean, stdDev, differece between the means, and p-value for each.  The first row has been completed for you (note that your numbers may be slightly different, since this is a stochastic process).  Also notice how long these take to finish (though you don't need to write that down).  Once the table is complete, look at it and try to see what patterns you can spot.\n",
    "\n",
    "Remember that we're working with a pretty trivial toy problem here; the point is the process and methodology, not the exact magnitude of the scores.\n",
    "\n",
    "_NOTE: please limit values to a reasonable number of sig figs_\n",
    "\n",
    "***\n",
    "\n",
    "Folds | Repeats  |   NN-mean  |  NN-stdev  | SVM-mean  |  SVM-stdDev  |  difference   |  p-value\n",
    "------|----------|------------|------------|-----------|--------------|---------------|--------------\n",
    "5     |      4   |    0.957   |   0.035    |  0.977    |   0.032      |     0.033     |   0.032\n",
    "2     |      10  |    0.951   |   0.0198   |  0.967    |   0.012      |     0.015     |   0.008\n",
    "10    |      2   |    0.956   |   0.0528   |  0.980    |   0.039      |     0.023     |   0.109\n",
    "10    |      10  |    0.957   |   0.046    |  0.980    |   0.0394     |     0.0213    |   0.00070136\n",
    "10    |     100  |    0.959   |   0.047    |  0.978    |   0.03799    |     0.01893   |   1.65e-23\n",
    "100   |      10  |    0.957   |   0.181    |  0.975    |   0.149      |     0.0189    |   0.00216\n",
    "100   |     100  |    0.960   |   0.1697   |  0.979    |   0.125      |     0.0193    |   1.8468e-23"
   ]
  },
  {
   "cell_type": "markdown",
   "metadata": {},
   "source": [
    "# Part 4: Alternative Metrics\n",
    "\n",
    "Up until now, we've just worked with overall accuracy as our only way of \"scoring\" the performance of a classifier.  Now, we will try out some alternative tools for evaluating classifier performance.  In addition to the `.scores()` method, scikit-learn classifiers have a `.predict()` method which takes in a set of examples as an argument, and returns an array with the predicted labels for those examples.  Here's an example:"
   ]
  },
  {
   "cell_type": "code",
   "execution_count": 22,
   "metadata": {},
   "outputs": [
    {
     "name": "stdout",
     "output_type": "stream",
     "text": [
      "predicted labels:  [2 1 0 2 0 2 0 1 1 1 2 1 1 1 1 0 1 1 0 0 2 1 0 0 1 0 0 1 1 0 2 1 0 2 2 1 0\n",
      " 2 1 1 2 0 2 0 0 1 2 2 2 2 1 2 1 1 2 2 2 2 1 2]\n",
      "true labels:  [2 1 0 2 0 2 0 1 1 1 2 1 1 1 1 0 1 1 0 0 2 1 0 0 2 0 0 1 1 0 2 1 0 2 2 1 0\n",
      " 1 1 1 2 0 2 0 0 1 2 2 2 2 1 2 1 1 2 2 2 2 1 2]\n"
     ]
    }
   ],
   "source": [
    "train, test, trainLabels, testLabels = train_test_split(iris.data, iris.target, test_size=0.4, random_state=0)\n",
    "clf = svm.SVC(kernel='linear')\n",
    "clf.fit(train, trainLabels)\n",
    "predictions = clf.predict(test)\n",
    "print('predicted labels: ', predictions)\n",
    "print('true labels: ', testLabels)"
   ]
  },
  {
   "cell_type": "markdown",
   "metadata": {},
   "source": [
    "## Confusion Matrix\n",
    "\n",
    "By comparing the predicted labels to the 'true' labels, we could easily compute accuracy like we've done in the past.  This time, however, we want to drill down and get more details, so we're going to build a confusion matrix.\n",
    "\n",
    "A confusion matrix works by making a 2D array (i.e. a matrix), with the rows corresponding to 'true' class labels and the columns corresponding to 'predicted' class labels.  You just need to loop over the pairs of corresponding true/predicted labels, and add to the count in the corresponding cell of the array."
   ]
  },
  {
   "cell_type": "code",
   "execution_count": 23,
   "metadata": {},
   "outputs": [
    {
     "name": "stdout",
     "output_type": "stream",
     "text": [
      "[[16  0  0]\n",
      " [ 0 22  1]\n",
      " [ 0  1 20]]\n"
     ]
    }
   ],
   "source": [
    "# todo\n",
    "confusionMatrix = [[0]*3, [0]*3, [0]*3]\n",
    "for i in range(len(predictions)):\n",
    "    confusionMatrix[predictions[i]][testLabels[i]] += 1\n",
    "print(np.array(confusionMatrix))"
   ]
  },
  {
   "cell_type": "markdown",
   "metadata": {},
   "source": [
    "### Confusion Matrix using scikit-learn\n",
    "\n",
    "We can also ask scikit-learn to generate a confusion matrix for us, as the following example shows.  Your own confusion matrix should look just like the one produced by the library."
   ]
  },
  {
   "cell_type": "code",
   "execution_count": 24,
   "metadata": {},
   "outputs": [
    {
     "name": "stdout",
     "output_type": "stream",
     "text": [
      "[[16  0  0]\n",
      " [ 0 22  1]\n",
      " [ 0  1 20]]\n"
     ]
    }
   ],
   "source": [
    "confMat = confusion_matrix(testLabels, predictions)\n",
    "print(confMat)"
   ]
  },
  {
   "cell_type": "markdown",
   "metadata": {},
   "source": [
    "## Fancy Graphics\n",
    "\n",
    "It's also possible to use Python's plotting tools to make fancy graphical versions of a confusion matrix; the following example is adapted from http://scikit-learn.org/stable/auto_examples/model_selection/plot_confusion_matrix.html.  _NOTE:_ it's fine if you don't understand what this function is doing; we haven't really covered making plots yet.  For now, it's okay if this is just magic."
   ]
  },
  {
   "cell_type": "code",
   "execution_count": 25,
   "metadata": {},
   "outputs": [],
   "source": [
    "import matplotlib.pyplot as plt\n",
    "import itertools\n",
    "%matplotlib inline\n",
    "\n",
    "def plot_confusion_matrix(cm, classes,\n",
    "                          normalize=False,\n",
    "                          title='Confusion matrix',\n",
    "                          cmap=plt.cm.Blues):\n",
    "    \"\"\"\n",
    "    This function prints and plots the confusion matrix.\n",
    "    Normalization can be applied by setting `normalize=True`.\n",
    "    \"\"\"\n",
    "    if normalize:\n",
    "        cm = cm.astype('float') / cm.sum(axis=1)[:, np.newaxis]\n",
    "\n",
    "    plt.imshow(cm, interpolation='nearest', cmap=cmap)\n",
    "    plt.title(title)\n",
    "    plt.colorbar()\n",
    "    tick_marks = np.arange(len(classes))\n",
    "    plt.xticks(tick_marks, classes, rotation=45)\n",
    "    plt.yticks(tick_marks, classes)\n",
    "\n",
    "    fmt = '.2f' if normalize else 'd'\n",
    "    thresh = cm.max() / 2.\n",
    "    for i, j in itertools.product(range(cm.shape[0]), range(cm.shape[1])):\n",
    "        plt.text(j, i, format(cm[i, j], fmt),\n",
    "                 horizontalalignment=\"center\",\n",
    "                 color=\"white\" if cm[i, j] > thresh else \"black\")\n",
    "\n",
    "    plt.tight_layout()\n",
    "    plt.ylabel('True label')\n",
    "    plt.xlabel('Predicted label')\n",
    "\n"
   ]
  },
  {
   "cell_type": "code",
   "execution_count": 26,
   "metadata": {},
   "outputs": [
    {
     "data": {
      "image/png": "[encoded data removed]",
      "text/plain": [
       "<Figure size 432x288 with 2 Axes>"
      ]
     },
     "metadata": {
      "needs_background": "light"
     },
     "output_type": "display_data"
    },
    {
     "data": {
      "image/png": "[encoded data removed]",
      "text/plain": [
       "<Figure size 432x288 with 2 Axes>"
      ]
     },
     "metadata": {
      "needs_background": "light"
     },
     "output_type": "display_data"
    }
   ],
   "source": [
    "# Plot non-normalized confusion matrix\n",
    "plt.figure()\n",
    "plot_confusion_matrix(confMat, classes=iris.target_names,\n",
    "                      title='Confusion matrix, without normalization')\n",
    "# Plot normalized confusion matrix\n",
    "plt.figure()\n",
    "plot_confusion_matrix(confMat, classes=iris.target_names, normalize=True,\n",
    "                      title='Normalized confusion matrix')\n",
    "\n",
    "plt.show()"
   ]
  },
  {
   "cell_type": "markdown",
   "metadata": {},
   "source": [
    "# Part 5: Different data sets\n",
    "\n",
    "Up until now, we've mostly just considered a single data set at a time; that was fine when we were focused mainly on understanding how the classifiers worked, but we also need to get a feel for how much difference there is between different data sets.  Here, we will load up a few different data sets provided by SciKit learn.\n",
    "\n",
    "Note that we use the argument `as_frame=True` here to ask SciKit to give us the data in the form of a Pandas dataframe object (as opposed to the \"default\" form, which we saw when we loaded the Iris data set above)."
   ]
  },
  {
   "cell_type": "code",
   "execution_count": 27,
   "metadata": {},
   "outputs": [
    {
     "name": "stdout",
     "output_type": "stream",
     "text": [
      "digits type: <class 'sklearn.utils.Bunch'>\n"
     ]
    }
   ],
   "source": [
    "# load the Wisconsin Breast Cancer data set as a Pandas dataframe\n",
    "cancer = datasets.load_breast_cancer(as_frame=True)\n",
    "X = cancer['data']\n",
    "X=(X-X.min())/(X.max()-X.min()) # normalize the data to make each column be in the range [0-1]\n",
    "cancer['data'] = X\n",
    "\n",
    "# load a handwritten-digit-classification data set as a Pandas dataframe\n",
    "digits = datasets.load_digits(as_frame=True)"
   ]
  },
  {
   "cell_type": "markdown",
   "metadata": {},
   "source": [
    "## Use what you've learned\n",
    "\n",
    "Use what you've learned from the earlier parts of this assignment to compare the performance of each of the classifiers we've studied (KNN, SVM, Decision Tree) on each of these datasets.  \n",
    "\n",
    "Your response should be a mix of code cells and markdown cells; make sure you include markdown cells *describing* the dataset and *explaning* what choices you made for that data set and why.\n",
    "\n",
    "\n",
    "Be sure to compare the different performance measures we've talked about, and note which ones are likely most important for the dataset in question.  Then, describe what you can conclude about the problem by comparing them (e.g. are some types of examples easier or harder than others? are some classes more similar or easier to confuse? etc.)\n",
    "\n",
    "At a minimum, for each problem you should describe  what type of model you chose, why(/how) you chose it, and how you chose to evaluate that model (both in terms of choosing a performance measure and in terms of how you ensure your estimate of that measure is reliable).\n",
    "\n",
    "For the first dataset, some cells with comments have been provided; for the second dataset, you should create a similar structure yourself.  Feel free to add in extra cells here, or change things around if appropriate.\n"
   ]
  },
  {
   "cell_type": "markdown",
   "metadata": {
    "tags": []
   },
   "source": [
    "# 5a: Breast Cancer\n",
    "\n",
    "Here you will examine the Wisconsin Breast Cancer data set.\n",
    "\n",
    "## Data set description\n",
    "\n",
    "Use the code box below to examines the data set and then describe the data set in the Markdown box below"
   ]
  },
  {
   "cell_type": "code",
   "execution_count": 28,
   "metadata": {
    "tags": []
   },
   "outputs": [
    {
     "name": "stdout",
     "output_type": "stream",
     "text": [
      "Folds:  10  Repeats:  2\n",
      "Nearest Neighbor: mean = 0.9577224310776942 , stdDev = 0.028303100650274297\n",
      "Linear SVM: mean = 0.9771773182957393 , stdDev = 0.02155453927249671\n",
      "Decision Tree: mean = 0.9358395989974937 , stdDev = 0.025036523028969436\n",
      "Difference between SVM and K-Nearest Neighbor means: 0.019454887218045114\n",
      "Difference between SVM and Decision Tree means: 0.04133771929824559\n",
      "Difference between K-Nearest Neighbor and Decision Tree means: 0.021882832080200476\n",
      "MannwhitneyuResult(statistic=122.5, pvalue=0.03349685074963678)\n",
      "MannwhitneyuResult(statistic=45.0, pvalue=2.3417970918469327e-05)\n",
      "MannwhitneyuResult(statistic=288.0, pvalue=0.016106683863466812)\n",
      "\n",
      "\n",
      "Folds:  10  Repeats:  10\n",
      "Nearest Neighbor: mean = 0.9539411027568923 , stdDev = 0.02437282875463225\n",
      "Linear SVM: mean = 0.9761152882205514 , stdDev = 0.021446889750453113\n",
      "Decision Tree: mean = 0.9248026315789473 , stdDev = 0.03507326767261488\n",
      "Difference between SVM and K-Nearest Neighbor means: 0.022174185463659124\n",
      "Difference between SVM and Decision Tree means: 0.051312656641604115\n",
      "Difference between K-Nearest Neighbor and Decision Tree means: 0.02913847117794499\n",
      "MannwhitneyuResult(statistic=2426.0, pvalue=1.482093230224425e-10)\n",
      "MannwhitneyuResult(statistic=1007.0, pvalue=7.165783385495748e-23)\n",
      "MannwhitneyuResult(statistic=7410.5, pvalue=2.6786300033356566e-09)\n",
      "\n",
      "\n",
      "Folds:  10  Repeats:  100\n",
      "Nearest Neighbor: mean = 0.953233709273183 , stdDev = 0.02598806615833957\n",
      "Linear SVM: mean = 0.9767882205513785 , stdDev = 0.018658106200231096\n",
      "Decision Tree: mean = 0.9253176691729323 , stdDev = 0.03356156525595736\n",
      "Difference between SVM and K-Nearest Neighbor means: 0.023554511278195522\n",
      "Difference between SVM and Decision Tree means: 0.05147055137844614\n",
      "Difference between K-Nearest Neighbor and Decision Tree means: 0.027916040100250616\n",
      "MannwhitneyuResult(statistic=237553.5, pvalue=4.184089205560606e-95)\n",
      "MannwhitneyuResult(statistic=85564.5, pvalue=3.899944429260484e-230)\n",
      "MannwhitneyuResult(statistic=741986.5, pvalue=5.5182313806299995e-80)\n",
      "\n",
      "\n",
      "Folds:  100  Repeats:  10\n",
      "Nearest Neighbor: mean = 0.9525333333333335 , stdDev = 0.08829385281232462\n",
      "Linear SVM: mean = 0.9768333333333333 , stdDev = 0.06643271449787036\n",
      "Decision Tree: mean = 0.9286666666666668 , stdDev = 0.11002221997800665\n",
      "Difference between SVM and K-Nearest Neighbor means: 0.024299999999999877\n",
      "Difference between SVM and Decision Tree means: 0.04816666666666658\n",
      "Difference between K-Nearest Neighbor and Decision Tree means: 0.023866666666666703\n",
      "MannwhitneyuResult(statistic=438157.5, pvalue=8.875666946974153e-13)\n",
      "MannwhitneyuResult(statistic=390034.5, pvalue=2.9836915670768227e-31)\n",
      "MannwhitneyuResult(statistic=549955.5, pvalue=1.218697174070006e-06)\n",
      "\n",
      "\n"
     ]
    }
   ],
   "source": [
    "def rkfFuncCancer(folds, repeats):    \n",
    "    rkf = RepeatedKFold(n_splits = folds, n_repeats = repeats)\n",
    "    \n",
    "    nn = neighbors.KNeighborsClassifier(n_neighbors=1, metric='euclidean')\n",
    "    svmLinear = svm.SVC(kernel='linear')\n",
    "    treeClassifier = tree.DecisionTreeClassifier()\n",
    "    \n",
    "    nnScores = cross_val_score(nn, cancer.data, cancer.target, cv = rkf) #we are here (can)\n",
    "    svmScores = cross_val_score(svmLinear, cancer.data, cancer.target, cv = rkf)\n",
    "    treeScores = cross_val_score(treeClassifier, cancer.data, cancer.target, cv = rkf)\n",
    "    \n",
    "    print(\"Folds: \", folds, \" Repeats: \", repeats)\n",
    "    print('Nearest Neighbor: mean =', nnScores.mean(), ', stdDev =', nnScores.std())\n",
    "    print('Linear SVM: mean =', svmScores.mean(), ', stdDev =', svmScores.std())\n",
    "    print('Decision Tree: mean =', treeScores.mean(), ', stdDev =', treeScores.std())\n",
    "    print('Difference between SVM and K-Nearest Neighbor means:', svmScores.mean() - nnScores.mean())\n",
    "    print('Difference between SVM and Decision Tree means:', svmScores.mean() - treeScores.mean())\n",
    "    print('Difference between K-Nearest Neighbor and Decision Tree means:', nnScores.mean() - treeScores.mean())\n",
    "    print(scipy.stats.mannwhitneyu(nnScores, svmScores))\n",
    "    print(scipy.stats.mannwhitneyu(treeScores, svmScores))\n",
    "    print(scipy.stats.mannwhitneyu(nnScores, treeScores))\n",
    "\n",
    "    print('\\n')\n",
    "    #scipy.stats.mannwhitneyu(nnScores, svmScores)\n",
    "\n",
    "for f, r in [(10, 2), (10, 10), (10, 100), (100, 10)]:\n",
    "        rkfFuncCancer(f, r)"
   ]
  },
  {
   "cell_type": "markdown",
   "metadata": {
    "tags": []
   },
   "source": [
    "\n",
    "***Todo: Describe the breast cancer dataset here*** (hint: consider the questions that were asked about datasets in the previous lab)\n",
    "\n",
    "This dataset is a set of info data about the cells seen in scans of women with and without breast cancer. This is meant to be used for training a classifier that could classify breast cancer in patients based on scans and measirements of their cells. The risks of this data set are fairly high as a false negative would be devastating as a patient would be unable to get treatment that they would need if a doctor was not also using traditional scans. If the doctor is looking at traditional scans, false positives can be terrible as they would likely put patients through trauma and invasive treatment that they would not need, and if it is being used to detect cancers that have not yet grown visible in other scans, this positive would not be verifiable elsewhere. Since failing to detect cancer might cause the patient's death, false negatives would be worse than false positives. "
   ]
  },
  {
   "cell_type": "markdown",
   "metadata": {},
   "source": [
    "## Feature Importance\n",
    "\n",
    "Weighted models can be used to gauge what is known as _feature importance_ - the relative influence a feature has on the prediction task.  We can use the weights in logistic regression as a proxy for how relavent the feature is.  Similarly, for decision trees, the height a feature is placed in the tree tells us something about how important that feature is. Use the code box below to calculate feature importance and then answer the analysis questions\n",
    "\n",
    "\n",
    "\n"
   ]
  },
  {
   "cell_type": "code",
   "execution_count": 29,
   "metadata": {
    "tags": []
   },
   "outputs": [
    {
     "name": "stdout",
     "output_type": "stream",
     "text": [
      "Coefficients and intercept for SKlearn SGDClassifier: \n",
      "mean radius has a weight of -0.6467905249151195 \n",
      "\n",
      "mean texture has a weight of -2.442467089799789 \n",
      "\n",
      "mean perimeter has a weight of -0.8765276767090724 \n",
      "\n",
      "mean area has a weight of -2.0107749489313296 \n",
      "\n",
      "mean smoothness has a weight of 0.16804522801822608 \n",
      "\n",
      "mean compactness has a weight of 0.42048812954997095 \n",
      "\n",
      "mean concavity has a weight of -4.5737900771265 \n",
      "\n",
      "mean concave points has a weight of -5.9896151963528865 \n",
      "\n",
      "mean symmetry has a weight of -1.2696938961312956 \n",
      "\n",
      "mean fractal dimension has a weight of 3.0560460536281697 \n",
      "\n",
      "radius error has a weight of -4.255202844473158 \n",
      "\n",
      "texture error has a weight of 0.10409341726948466 \n",
      "\n",
      "perimeter error has a weight of -3.0623844172135013 \n",
      "\n",
      "area error has a weight of -2.889033177789699 \n",
      "\n",
      "smoothness error has a weight of 1.1372572103530045 \n",
      "\n",
      "compactness error has a weight of 3.5286306933175844 \n",
      "\n",
      "concavity error has a weight of 1.1489873311206795 \n",
      "\n",
      "concave points error has a weight of 1.2440840234092336 \n",
      "\n",
      "symmetry error has a weight of -0.5291094817849151 \n",
      "\n",
      "fractal dimension error has a weight of 2.459061815597162 \n",
      "\n",
      "worst radius has a weight of -3.9734543501786685 \n",
      "\n",
      "worst texture has a weight of -4.5985948428634495 \n",
      "\n",
      "worst perimeter has a weight of -3.5022077044507607 \n",
      "\n",
      "worst area has a weight of -3.9726138830986746 \n",
      "\n",
      "worst smoothness has a weight of -2.482918889783381 \n",
      "\n",
      "worst compactness has a weight of -0.16121337663409932 \n",
      "\n",
      "worst concavity has a weight of -3.058379635259948 \n",
      "\n",
      "worst concave points has a weight of -5.980130130997101 \n",
      "\n",
      "worst symmetry has a weight of -3.1831122458704693 \n",
      "\n",
      "worst fractal dimension has a weight of -1.0085539322287518 \n",
      "\n",
      "Coefficients and intercept for linear svm: \n",
      "mean radius has a weight of -0.9850591921424848 \n",
      "\n",
      "mean texture has a weight of -1.01098955614795 \n",
      "\n",
      "mean perimeter has a weight of -0.9744493732981279 \n",
      "\n",
      "mean area has a weight of -0.9426191768372139 \n",
      "\n",
      "mean smoothness has a weight of -0.37355873570397025 \n",
      "\n",
      "mean compactness has a weight of 0.1338729655467794 \n",
      "\n",
      "mean concavity has a weight of -1.1249041589917426 \n",
      "\n",
      "mean concave points has a weight of -1.497820392269943 \n",
      "\n",
      "mean symmetry has a weight of -0.7506723077638522 \n",
      "\n",
      "mean fractal dimension has a weight of 0.5055332140251877 \n",
      "\n",
      "radius error has a weight of -0.9777610939108227 \n",
      "\n",
      "texture error has a weight of 0.10033342144283264 \n",
      "\n",
      "perimeter error has a weight of -0.7075032334138041 \n",
      "\n",
      "area error has a weight of -0.6865208579621405 \n",
      "\n",
      "smoothness error has a weight of -0.01101288729922012 \n",
      "\n",
      "compactness error has a weight of 0.5240438976089156 \n",
      "\n",
      "concavity error has a weight of 0.1844605902869946 \n",
      "\n",
      "concave points error has a weight of 0.47794037503578024 \n",
      "\n",
      "symmetry error has a weight of -0.42439114177938253 \n",
      "\n",
      "fractal dimension error has a weight of 0.43595720363230595 \n",
      "\n",
      "worst radius has a weight of -1.5876595801205409 \n",
      "\n",
      "worst texture has a weight of -1.5112701758556535 \n",
      "\n",
      "worst perimeter has a weight of -1.4506933440338163 \n",
      "\n",
      "worst area has a weight of -1.2351081958445458 \n",
      "\n",
      "worst smoothness has a weight of -1.1449996931159563 \n",
      "\n",
      "worst compactness has a weight of -0.26977984361251295 \n",
      "\n",
      "worst concavity has a weight of -1.0264904252522016 \n",
      "\n",
      "worst concave points has a weight of -1.5549816077782115 \n",
      "\n",
      "worst symmetry has a weight of -1.2093658018597009 \n",
      "\n",
      "worst fractal dimension has a weight of -0.5174294746378171 \n",
      "\n",
      "weights of tree:\n"
     ]
    },
    {
     "data": {
      "image/png": "[encoded data removed]",
      "text/plain": [
       "<Figure size 432x288 with 1 Axes>"
      ]
     },
     "metadata": {
      "needs_background": "light"
     },
     "output_type": "display_data"
    }
   ],
   "source": [
    "#todo: calculate feature importance\n",
    "# here's a bit of scaffolding for how to look at feature weights using an sklearn SGDClassifier\n",
    "# (reminder that the other part of the lab covers this in more detail)\n",
    "def printWeights(cols, weights):\n",
    " for i in range(len(cols)):\n",
    "    print(f\"{cols[i]} has a weight of {weights[i]} \\n\")\n",
    "\n",
    "print(\"Coefficients and intercept for SKlearn SGDClassifier: \")\n",
    "# create, train, and test\n",
    "X_train, X_test, y_train, y_test = train_test_split(cancer.data, cancer.target, test_size=0.4, random_state=0)\n",
    "sgd = SGDClassifier(loss='log', max_iter=100,shuffle=False, tol=None, penalty='none', learning_rate='constant', eta0 = 0.1)\n",
    "sgd.fit(X_train,y_train) \n",
    "weights = list(sgd.coef_[0]) + list(sgd.intercept_)\n",
    "printWeights(X_train.columns,  weights)\n",
    "print(\"Coefficients and intercept for linear svm: \")\n",
    "linearSvm = svm.SVC(kernel='linear')\n",
    "linearSvm = linearSvm.fit(X_train, y_train)\n",
    "weights = list(linearSvm.coef_[0]) + list(linearSvm.intercept_)\n",
    "printWeights(X_train.columns,  weights)\n",
    "print(\"weights of tree:\")\n",
    "treeClassifier = tree.DecisionTreeClassifier()\n",
    "treeClassifier = treeClassifier.fit(X_train, y_train)\n",
    "tree.plot_tree(treeClassifier)\n",
    "plt.show()"
   ]
  },
  {
   "cell_type": "markdown",
   "metadata": {},
   "source": [
    "1.  What features seem to be most important for identifying cancer?  Is it the same for different methods, or is the relative feature importance consistent across different classifiers?\n",
    "\n",
    "All of the features having to do with concavity have the weights with the largest magnitude and thus seemingly would sway the identification the most. Additionally, worst radius, perimeter, texture, and area all have large magnitudes as well. It seems other methods have similarly classified weights, as a linear svm, although far from identical, seems to also place high weight on features having to do with concavity.\n",
    "\n",
    "2.  We can't say a feature close to weight 0 is irrelevant to a task.  Why is that?  As a hint, if we were to start removing other features from the data set, would you expect some of the small weights to stay small or grow bigger? \n",
    "\n",
    "We cant disregard the features with smaller weights because they still play a role and the combination of multiple small features that may be linked could be more significant than an unrelated other variable of higher weight. Also as hinted at, without them , other variables could have their weights bumped up, leading to an underfit algorithm which places higher weights on oher variables.\n",
    "\n",
    "3. How does feature importance play into our overall evaluation of the appropriateness of a classifier for our task?\n",
    "\n",
    "If a model is very dependent on a feature that we know is more error prone or harder to gather, it might not be as appropriate as one that depends on better more sure sources.\n",
    "\n",
    "4. For this task in particular, how might the availability (or absence) of feature importance information impact the real-world usefulness of a model?\n",
    "\n",
    "Knowing which features are more important in this case could be valuable as gathering the info could have some errors, or there could be cases when a doctor would know that a feature might be unusual in a certain patient and having the knowledge of how that might affect the task would be important. Also if efficiency is an issue, possibly simplifying the system coudl be an option.\n"
   ]
  },
  {
   "cell_type": "markdown",
   "metadata": {},
   "source": [
    "## Performance Measures\n",
    "\n",
    "Todo: Describe what performance measure(s) you will focus on for this dataset (e.g. accuracy, precision, recall, confusion matrix, etc.).  Be sure to include your reasoning showing why and how you came to your conclusions."
   ]
  },
  {
   "cell_type": "code",
   "execution_count": 30,
   "metadata": {},
   "outputs": [
    {
     "name": "stdout",
     "output_type": "stream",
     "text": [
      "For this, we will depend mostly on accuracy. We will assume that we want to prvent false positives most of all, as well assume that this system is being used to detect cases that otherwise might have slipped through and thus we don't want to accidentally pick up cases that are otherwise not double-checkable\n"
     ]
    }
   ],
   "source": [
    "#todo: code to calculate the chosen performance measure(s) \n",
    "print(\"For this, we will depend mostly on accuracy. We will assume that we want to prvent false positives most of all, as well assume that this system is being used to detect cases that otherwise might have slipped through and thus we don't want to accidentally pick up cases that are otherwise not double-checkable\")"
   ]
  },
  {
   "cell_type": "markdown",
   "metadata": {},
   "source": [
    "## Evaluation Methodology\n",
    "\n",
    "Todo: Describe what method you chose to evaluate your chosen performance metric(s) (e.g. hold-out validation, k-fold cross-validation, etc.).  Be sure to include your reasoning for why this choice is appropriate."
   ]
  },
  {
   "cell_type": "code",
   "execution_count": 31,
   "metadata": {},
   "outputs": [],
   "source": [
    "#todo: code to robustly evaluate the performance measures for a classifier"
   ]
  },
  {
   "cell_type": "markdown",
   "metadata": {},
   "source": [
    "## Conclusions\n",
    "\n",
    "Todo: Based on your results, what classifier would you choose to do this problem?  Does this seem like a reasonable choice?  Describe a potential use case for such a system where your classifier would be appropriate.  Describe another potential use case where your classifier would not be adequate for real-world use."
   ]
  },
  {
   "cell_type": "code",
   "execution_count": 32,
   "metadata": {},
   "outputs": [],
   "source": [
    "#todo: apply above code to several classifiers"
   ]
  },
  {
   "cell_type": "markdown",
   "metadata": {},
   "source": [
    "# 5b: Digits data set\n",
    "Put your own analysis for the digits dataset below.  You can use the earlier sections as examples, but be thoughtful about what's relevant and useful here; not all data sets require the same approach, and \"more\" is not always \"better\".  However, this section should be substantial enough overall to demonstrate careful work and thought."
   ]
  },
  {
   "cell_type": "code",
   "execution_count": 33,
   "metadata": {},
   "outputs": [],
   "source": [
    "#todo..."
   ]
  }
 ],
 "metadata": {
  "kernelspec": {
   "display_name": "Python 3 (ipykernel)",
   "language": "python",
   "name": "python3"
  },
  "language_info": {
   "codemirror_mode": {
    "name": "ipython",
    "version": 3
   },
   "file_extension": ".py",
   "mimetype": "text/x-python",
   "name": "python",
   "nbconvert_exporter": "python",
   "pygments_lexer": "ipython3",
   "version": "3.8.10"
  }
 },
 "nbformat": 4,
 "nbformat_minor": 4
}
